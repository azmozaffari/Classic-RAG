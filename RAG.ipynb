{
 "cells": [
  {
   "cell_type": "code",
   "execution_count": 2,
   "metadata": {
    "executionInfo": {
     "elapsed": 202,
     "status": "ok",
     "timestamp": 1725490955269,
     "user": {
      "displayName": "Anna M",
      "userId": "16378609412367695860"
     },
     "user_tz": 240
    },
    "id": "9VNysVwj1yzr"
   },
   "outputs": [],
   "source": [
    "import pandas as pd\n",
    "from qdrant_client import models, QdrantClient\n",
    "from openai import OpenAI\n",
    "import clip\n",
    "from PIL import Image\n",
    "import torch\n",
    "from transformers import  CLIPModel, CLIPTextModel, AutoProcessor, AutoTokenizer, CLIPProcessor\n"
   ]
  },
  {
   "cell_type": "code",
   "execution_count": 3,
   "metadata": {
    "executionInfo": {
     "elapsed": 1156,
     "status": "ok",
     "timestamp": 1725490957412,
     "user": {
      "displayName": "Anna M",
      "userId": "16378609412367695860"
     },
     "user_tz": 240
    },
    "id": "lVlUZieAMLgo"
   },
   "outputs": [],
   "source": [
    "# Read the dataset\n",
    "# download the dataset from this page\n",
    "\n",
    "df = pd.read_csv('./csv/styles.csv')\n",
    "data = df.to_dict('records') # Get only 700 records. More records will make it slower to index\n"
   ]
  },
  {
   "cell_type": "code",
   "execution_count": 4,
   "metadata": {
    "executionInfo": {
     "elapsed": 263,
     "status": "ok",
     "timestamp": 1725490965894,
     "user": {
      "displayName": "Anna M",
      "userId": "16378609412367695860"
     },
     "user_tz": 240
    },
    "id": "G205ktM_IQ09"
   },
   "outputs": [],
   "source": [
    "# get image feature\n",
    "def get_features_from_image_path(url):\n",
    "  model = CLIPModel.from_pretrained(\"openai/clip-vit-base-patch32\")\n",
    "  processor = processor = CLIPProcessor.from_pretrained(\"openai/clip-vit-base-patch32\")\n",
    "  image = Image.open(url)\n",
    "  inputs = processor(images=image, return_tensors=\"pt\")\n",
    "  image_features = model.get_image_features(**inputs)\n",
    "  return image_features\n",
    "\n"
   ]
  },
  {
   "cell_type": "code",
   "execution_count": 5,
   "metadata": {
    "executionInfo": {
     "elapsed": 4,
     "status": "ok",
     "timestamp": 1725490966067,
     "user": {
      "displayName": "Anna M",
      "userId": "16378609412367695860"
     },
     "user_tz": 240
    },
    "id": "rSEOQI5sAkrP"
   },
   "outputs": [],
   "source": [
    "# get text features\n",
    "def get_prompt_features(prompt):\n",
    "  model = CLIPModel.from_pretrained(\"openai/clip-vit-base-patch32\")\n",
    "  processor = CLIPProcessor.from_pretrained(\"openai/clip-vit-base-patch32\")\n",
    "  tokens = processor(\n",
    "    text=prompt,\n",
    "    padding=True,\n",
    "    images=None,\n",
    "    return_tensors='pt'\n",
    ")\n",
    "  text_emb = model.get_text_features(\n",
    "    **tokens\n",
    ")\n",
    "\n",
    "  return text_emb"
   ]
  },
  {
   "cell_type": "code",
   "execution_count": 6,
   "metadata": {
    "colab": {
     "base_uri": "https://localhost:8080/"
    },
    "executionInfo": {
     "elapsed": 239,
     "status": "ok",
     "timestamp": 1725490967246,
     "user": {
      "displayName": "Anna M",
      "userId": "16378609412367695860"
     },
     "user_tz": 240
    },
    "id": "4HJ96PeneG3k",
    "outputId": "6172a00c-07cd-4fac-8d52-59e404e8c220"
   },
   "outputs": [
    {
     "data": {
      "text/plain": [
       "True"
      ]
     },
     "execution_count": 6,
     "metadata": {},
     "output_type": "execute_result"
    }
   ],
   "source": [
    "# create the vector database client\n",
    "qdrant = QdrantClient(\":memory:\") # Create in-memory Qdrant instance\n",
    "# Create collection to store wines\n",
    "qdrant.create_collection(\n",
    "    collection_name=\"top_fashion\",\n",
    "    vectors_config=models.VectorParams(\n",
    "        size= 512,# vectore size clip\n",
    "        distance=models.Distance.COSINE\n",
    "    )\n",
    ")\n"
   ]
  },
  {
   "cell_type": "code",
   "execution_count": 7,
   "metadata": {
    "executionInfo": {
     "elapsed": 846,
     "status": "ok",
     "timestamp": 1725490968774,
     "user": {
      "displayName": "Anna M",
      "userId": "16378609412367695860"
     },
     "user_tz": 240
    },
    "id": "lL8T-2volWQm"
   },
   "outputs": [],
   "source": [
    "#I put the data records as the list of dictionaly to import to the vectoreDB as payloads\n",
    "df = pd.read_csv('./csv/styles.csv')\n",
    "data = df.to_dict('records')\n",
    "d = []\n",
    "for i,doc in enumerate(data):\n",
    "  d.append(doc)\n",
    "\n"
   ]
  },
  {
   "cell_type": "code",
   "execution_count": 8,
   "metadata": {
    "executionInfo": {
     "elapsed": 1143,
     "status": "ok",
     "timestamp": 1725491208891,
     "user": {
      "displayName": "Anna M",
      "userId": "16378609412367695860"
     },
     "user_tz": 240
    },
    "id": "ZiUWrUTOWgPX"
   },
   "outputs": [],
   "source": [
    "# write a dataloader to load the data in batch\n",
    "# the original dataloader in python merge dictionary types of data when it makes a batch\n",
    "# then I pass payloads seperatly out of the dataloader\n",
    "\n",
    "\n",
    "from torch.utils.data import Dataset\n",
    "class CustomDataSet(Dataset):\n",
    "    def __init__(self, csv_file):\n",
    "        self.df = pd.read_csv(csv_file)\n",
    "        self.data = df.to_dict('records')\n",
    "        self.doc = doc\n",
    "\n",
    "    def __len__(self):\n",
    "        return self.df.shape[0]\n",
    "\n",
    "    def __getitem__(self, index):\n",
    "        image_paths = './img/'+str(self.data[index]['id'])+'.jpg'\n",
    "        image = get_features_from_image_path(image_paths)[0]\n",
    "        label = index\n",
    "\n",
    "        return image, label\n",
    "\n",
    "\n",
    "\n",
    "csv_file_path = './csv/styles.csv'\n",
    "train_data_object = CustomDataSet(csv_file_path)\n",
    "train_loader = torch.utils.data.DataLoader(train_data_object,\n",
    "        batch_size=4,\n",
    "        shuffle=False)\n",
    "\n"
   ]
  },
  {
   "cell_type": "code",
   "execution_count": 10,
   "metadata": {
    "colab": {
     "base_uri": "https://localhost:8080/",
     "height": 356
    },
    "executionInfo": {
     "elapsed": 414736,
     "status": "error",
     "timestamp": 1725491623623,
     "user": {
      "displayName": "Anna M",
      "userId": "16378609412367695860"
     },
     "user_tz": 240
    },
    "id": "KtoFb3TjVzA4",
    "outputId": "9a1f97cd-fd26-4799-ff32-49cf4abdcd8c"
   },
   "outputs": [],
   "source": [
    "# add samples in batch mode to the dataset\n",
    "# I have limited the data iteration to save time here for demo\n",
    "import numpy as np\n",
    "image_loader = iter( train_loader)\n",
    "for i in range(100):\n",
    "  image_feature, idx = next(image_loader)\n",
    "  \n",
    "    \n",
    "    \n",
    "  data = list(np.array(d)[idx])\n",
    "  qdrant.upsert(\n",
    "      collection_name=\"top_fashion\",\n",
    "      points=models.Batch(\n",
    "          ids=idx.tolist(),\n",
    "          vectors=image_feature.tolist(),\n",
    "          payloads=data # it must be a list of dicts otherwise it returns an error\n",
    "      )\n",
    "  )"
   ]
  },
  {
   "cell_type": "code",
   "execution_count": null,
   "metadata": {
    "id": "ViTvfBBvzpj1"
   },
   "outputs": [],
   "source": [
    "## add the samples one by one to the database instead of batch\n",
    "## vectorize!\n",
    "# for idx, doc in enumerate(data):\n",
    "#   image_paths = '/content/drive/MyDrive/Colab Notebooks/img/'+str(data[idx]['id'])+'.jpg'\n",
    "#   qdrant.upload_points(\n",
    "#       collection_name=\"top_fashion\",\n",
    "#       points=[\n",
    "#           models.PointStruct(\n",
    "#               id=idx,\n",
    "#               vector= get_features_from_image_path(image_paths)[0].tolist(),\n",
    "#               payload=doc,\n",
    "#           )\n",
    "#       ]\n",
    "#   )"
   ]
  },
  {
   "cell_type": "code",
   "execution_count": 33,
   "metadata": {
    "colab": {
     "base_uri": "https://localhost:8080/"
    },
    "executionInfo": {
     "elapsed": 2768,
     "status": "ok",
     "timestamp": 1725323855440,
     "user": {
      "displayName": "Anna M",
      "userId": "16378609412367695860"
     },
     "user_tz": 240
    },
    "id": "AXqvaqHFuuKv",
    "outputId": "2cdda6fd-a411-423a-e4b2-f9ca86013f51"
   },
   "outputs": [
    {
     "name": "stdout",
     "output_type": "stream",
     "text": [
      "{'id': 39386, 'gender': 'Men', 'masterCategory': 'Apparel', 'subCategory': 'Bottomwear', 'articleType': 'Jeans', 'baseColour': 'Blue', 'season': 'Summer', 'year': 2012.0, 'usage': 'Casual', 'productDisplayName': 'Peter England Men Party Blue Jeans', 'Unnamed: 10': nan} score: 0.31613736558058403 1\n",
      "{'id': 21379, 'gender': 'Men', 'masterCategory': 'Apparel', 'subCategory': 'Bottomwear', 'articleType': 'Track Pants', 'baseColour': 'Black', 'season': 'Fall', 'year': 2011.0, 'usage': 'Casual', 'productDisplayName': 'Manchester United Men Solid Black Track Pants', 'Unnamed: 10': nan} score: 0.2499250589587359 3\n",
      "{'id': 15970, 'gender': 'Men', 'masterCategory': 'Apparel', 'subCategory': 'Topwear', 'articleType': 'Shirts', 'baseColour': 'Navy Blue', 'season': 'Fall', 'year': 2011.0, 'usage': 'Casual', 'productDisplayName': 'Turtle Check Men Navy Blue Shirt', 'Unnamed: 10': nan} score: 0.23541226837191617 0\n"
     ]
    }
   ],
   "source": [
    "user_prompt = \" I'm searching for a men summer jean\"\n",
    "# Search time for awesome wines!\n",
    "\n",
    "hits = qdrant.search(\n",
    "    collection_name=\"top_fashion\",\n",
    "    query_vector=get_prompt_features(user_prompt)[0].tolist(),\n",
    "    limit=3\n",
    ")\n",
    "for hit in hits:\n",
    "    print(hit.payload, \"score:\", hit.score, hit.id)\n",
    "im = Image.open('./img/'+str(hits[0].payload['id'])+'.jpg')\n",
    "im.save(\"result.jpg\")\n",
    "# define a variable to hold the search results\n",
    "search_results = [hit.payload for hit in hits]\n",
    "\n"
   ]
  },
  {
   "cell_type": "code",
   "execution_count": 34,
   "metadata": {
    "id": "rGyvtPACxoBj"
   },
   "outputs": [],
   "source": [
    "\n",
    "# from google.colab import userdata\n",
    "\n",
    "client = OpenAI(\n",
    "    api_key = \"your openAI api-key\",\n",
    ")"
   ]
  },
  {
   "cell_type": "code",
   "execution_count": 35,
   "metadata": {
    "colab": {
     "base_uri": "https://localhost:8080/"
    },
    "executionInfo": {
     "elapsed": 14921,
     "status": "ok",
     "timestamp": 1725328785786,
     "user": {
      "displayName": "Anna M",
      "userId": "16378609412367695860"
     },
     "user_tz": 240
    },
    "id": "MoO6UhBWxMhk",
    "outputId": "dbfda2b7-238b-4da6-a948-7fdfb586e844"
   },
   "outputs": [
    {
     "name": "stdout",
     "output_type": "stream",
     "text": [
      "Great choice! For a summer outfit featuring blue jeans, here's a stylish pairing:\n",
      "\n",
      "### Outfit Idea:\n",
      "- **Jeans:** Peter England Men Party Blue Jeans (or any slim-fit dark blue or light wash jeans)\n",
      "  \n",
      "### Top:\n",
      "- **Shirt:** A lightweight, short-sleeve button-up shirt in a light color like white, pale blue, or pastel shades. A subtle pattern like checks or stripes can add character.\n",
      "\n",
      "### Footwear:\n",
      "- **Shoes:** White sneakers or casual loafers will keep the look fresh and comfortable for summer.\n",
      "\n",
      "### Accessories:\n",
      "- **Watch:** A classic leather or canvas strap watch.\n",
      "- **Sunglasses:** A pair of trendy sunglasses for sun protection and style.\n",
      "- **Belt:** A brown or navy leather belt to match your footwear.\n",
      "\n",
      "### Optional Layer:\n",
      "- If it gets cool in the evening, consider adding a light denim jacket or a casual blazer to elevate the look.\n",
      "\n",
      "This outfit is not only stylish but also comfortable for a summer outing. Enjoy your summer!\n",
      "https://oaidalleapiprodscus.blob.core.windows.net/private/org-Q4z7Wu1TU8NW5aMmGRd4XXDZ/user-mw8nlFlElGhbVDv0vhUL9Vip/img-cTu8BzzutYFPFjhw08jah2ul.png?st=2024-09-06T21%3A27%3A05Z&se=2024-09-06T23%3A27%3A05Z&sp=r&sv=2024-08-04&sr=b&rscd=inline&rsct=image/png&skoid=d505667d-d6c1-4a0a-bac7-5c84a87759f8&sktid=a48cca56-e6da-484e-a814-9c849652bcb3&skt=2024-09-06T21%3A33%3A25Z&ske=2024-09-07T21%3A33%3A25Z&sks=b&skv=2024-08-04&sig=ziNF33/MqHMv2eG5QOLeaRgU0Vw7/xKYaVF3DjtHjWA%3D\n"
     ]
    }
   ],
   "source": [
    "style_prompt = \" I'm a white tall man.\"\n",
    "completion = client.chat.completions.create(\n",
    "    model=\"gpt-4o-mini\",\n",
    "    messages=[\n",
    "        {\"role\": \"system\", \"content\": \"You are chatbot, a facshion stylist. Your top priority is to help guide users into pairing amazing outfit for a person \"+style_prompt +\"with the item that the customer is searching for.\"},\n",
    "        {\"role\": \"user\", \"content\": user_prompt},\n",
    "        {\"role\": \"assistant\", \"content\": str(search_results[0])}\n",
    "\n",
    "    ]\n",
    ")\n",
    "\n",
    "print(completion.choices[0].message.content)\n",
    "\n",
    "PROMPT = completion.choices[0].message.content + \"show them on a body like\" + style_prompt\n",
    "\n",
    "response = client.images.generate(\n",
    "    model=\"dall-e-3\",\n",
    "    prompt=PROMPT,\n",
    ")\n",
    "\n",
    "print(response.data[0].url)\n",
    "\n"
   ]
  },
  {
   "cell_type": "code",
   "execution_count": null,
   "metadata": {
    "id": "UDWzs93yhoCI"
   },
   "outputs": [],
   "source": []
  },
  {
   "cell_type": "code",
   "execution_count": null,
   "metadata": {},
   "outputs": [],
   "source": []
  }
 ],
 "metadata": {
  "colab": {
   "authorship_tag": "ABX9TyP8wO9Jn0en0EwyRG30eI+x",
   "mount_file_id": "17n5xkEqvCdQhxSQQnAwrUZFsmNGIduNn",
   "provenance": []
  },
  "kernelspec": {
   "display_name": "Python 3 (ipykernel)",
   "language": "python",
   "name": "python3"
  },
  "language_info": {
   "codemirror_mode": {
    "name": "ipython",
    "version": 3
   },
   "file_extension": ".py",
   "mimetype": "text/x-python",
   "name": "python",
   "nbconvert_exporter": "python",
   "pygments_lexer": "ipython3",
   "version": "3.10.12"
  }
 },
 "nbformat": 4,
 "nbformat_minor": 4
}
